{
 "cells": [
  {
   "cell_type": "markdown",
   "metadata": {},
   "source": [
    "<div align=\"right\"><b><font face=\"Arial\" size=4 color=black>Jenish Vinodbhai Dhaduk</font></b></div>\n",
    "<div align=\"right\"><b><font face=\"Arial\" size=4 color=black> Student ID- 989354198 </font></b></div><br><br>\n",
    "<div align=\"center\"><font face=\"Arial\" size=10 color=black>Project Title - CrimeCure </font></div><br><hr>"
   ]
  },
  {
   "cell_type": "markdown",
   "metadata": {},
   "source": [
    "<div align =\"center\">\n",
    "<b><font size=5 > <u>Contents of the Project</u></font><br><br>\n",
    "<font size=5 >1. Objective</font><br><br>\n",
    "<font size=5 >2. Data Exploration</font><br><br>\n",
    "<font  size=5 >3. One Column Selection</font><br><br>\n",
    "<font  size=5 >4. Sort</font><br><br>\n",
    "<font  size=5 >5. Series</font><br><br>\n",
    "<font  size=5 >6. Plot</font><br><br>\n",
    "<font  size=5 >7. Summary</font><br><br>\n",
    "<font  size=5 >8. Recommendations</font>\n",
    "</b></div>\n",
    "<hr>"
   ]
  },
  {
   "cell_type": "markdown",
   "metadata": {},
   "source": [
    "## 1. Objective"
   ]
  },
  {
   "cell_type": "markdown",
   "metadata": {},
   "source": [
    "   A crime is any act or omission that violates a law which results in a punishment. Punishments can range from the payment of a fine to incarceration in jail. The level of the offense or crime will usually be set in proportion to the severity of the crime. A <b>criminal definetly pays the price for its sins</b>, but <b>what about those innocent people who are victimized for unknowingly reasons.</b> Why should they suffer?\n",
    "\n",
    "   <b>\"CrimeCure.inc\"</b> is started with a mission to keep people of the <b>United States of America safe </b>and to decrease the crime rate in the country. Crimes vary by jurisdiction—from state to state and town to town. For providing any solution, it becomes very much important to analyze the crimes in the repective jurisdiction. Therefore, We have decided to carry out the research that encover the insights of the Jurisdiction areas with <b>Highest number of crimes reported per capita in the country for 2015</b> and present our new feature <b>\"Locate The Crime\"</b> to the executive officers of those jurisdictions. \n",
    "\n",
    "   For this, a dataset is provided to us that conatins the <b>40 years of data on the four major crimes</b> the FBI classifies as violent — homicide, rape, robbery and assault — in <b>68 police jurisdictions</b> with populations of <b>250,000 or greater.</b> A detailed analysis is needed to understand the scenerio of crimes happening in the particular jurisdiction. \n"
   ]
  },
  {
   "cell_type": "markdown",
   "metadata": {},
   "source": [
    "## 2. Data Exploration"
   ]
  },
  {
   "cell_type": "code",
   "execution_count": 277,
   "metadata": {},
   "outputs": [],
   "source": [
    "import numpy as np\n",
    "import pandas as pd\n",
    "from pandas import DataFrame, Series\n",
    "import matplotlib.pyplot as plt"
   ]
  },
  {
   "cell_type": "markdown",
   "metadata": {},
   "source": [
    "All the necessaary libraries are imported. Along with the libraries such as numpy, pandas and matplotlib.pyplot, Data Structures like Series and DataFrame are also used."
   ]
  },
  {
   "cell_type": "code",
   "execution_count": 278,
   "metadata": {},
   "outputs": [],
   "source": [
    "crimemain=pd.read_csv(\"report.csv\")\n",
    "crimemain=crimemain[crimemain.agency_jurisdiction != 'United States']"
   ]
  },
  {
   "cell_type": "markdown",
   "metadata": {},
   "source": [
    "Above code read the \"report.csv\" file and delete the rows with agency_jurisdiction \"United States\"."
   ]
  },
  {
   "cell_type": "markdown",
   "metadata": {},
   "source": [
    "### 2.1 Displaying top 10 rows of dataset."
   ]
  },
  {
   "cell_type": "code",
   "execution_count": 279,
   "metadata": {
    "scrolled": true
   },
   "outputs": [
    {
     "data": {
      "text/html": [
       "<div>\n",
       "<style scoped>\n",
       "    .dataframe tbody tr th:only-of-type {\n",
       "        vertical-align: middle;\n",
       "    }\n",
       "\n",
       "    .dataframe tbody tr th {\n",
       "        vertical-align: top;\n",
       "    }\n",
       "\n",
       "    .dataframe thead th {\n",
       "        text-align: right;\n",
       "    }\n",
       "</style>\n",
       "<table border=\"1\" class=\"dataframe\">\n",
       "  <thead>\n",
       "    <tr style=\"text-align: right;\">\n",
       "      <th></th>\n",
       "      <th>report_year</th>\n",
       "      <th>agency_code</th>\n",
       "      <th>agency_jurisdiction</th>\n",
       "      <th>population</th>\n",
       "      <th>violent_crimes</th>\n",
       "      <th>homicides</th>\n",
       "      <th>rapes</th>\n",
       "      <th>assaults</th>\n",
       "      <th>robberies</th>\n",
       "      <th>months_reported</th>\n",
       "      <th>crimes_percapita</th>\n",
       "      <th>homicides_percapita</th>\n",
       "      <th>rapes_percapita</th>\n",
       "      <th>assaults_percapita</th>\n",
       "      <th>robberies_percapita</th>\n",
       "    </tr>\n",
       "  </thead>\n",
       "  <tbody>\n",
       "    <tr>\n",
       "      <th>0</th>\n",
       "      <td>1975</td>\n",
       "      <td>NM00101</td>\n",
       "      <td>Albuquerque, NM</td>\n",
       "      <td>286238.0</td>\n",
       "      <td>2383.0</td>\n",
       "      <td>30.0</td>\n",
       "      <td>181.0</td>\n",
       "      <td>1353.0</td>\n",
       "      <td>819.0</td>\n",
       "      <td>12.0</td>\n",
       "      <td>832.52</td>\n",
       "      <td>10.48</td>\n",
       "      <td>63.23</td>\n",
       "      <td>472.68</td>\n",
       "      <td>286.13</td>\n",
       "    </tr>\n",
       "    <tr>\n",
       "      <th>1</th>\n",
       "      <td>1975</td>\n",
       "      <td>TX22001</td>\n",
       "      <td>Arlington, TX</td>\n",
       "      <td>112478.0</td>\n",
       "      <td>278.0</td>\n",
       "      <td>5.0</td>\n",
       "      <td>28.0</td>\n",
       "      <td>132.0</td>\n",
       "      <td>113.0</td>\n",
       "      <td>12.0</td>\n",
       "      <td>247.16</td>\n",
       "      <td>4.45</td>\n",
       "      <td>24.89</td>\n",
       "      <td>117.36</td>\n",
       "      <td>100.46</td>\n",
       "    </tr>\n",
       "    <tr>\n",
       "      <th>2</th>\n",
       "      <td>1975</td>\n",
       "      <td>GAAPD00</td>\n",
       "      <td>Atlanta, GA</td>\n",
       "      <td>490584.0</td>\n",
       "      <td>8033.0</td>\n",
       "      <td>185.0</td>\n",
       "      <td>443.0</td>\n",
       "      <td>3518.0</td>\n",
       "      <td>3887.0</td>\n",
       "      <td>12.0</td>\n",
       "      <td>1637.44</td>\n",
       "      <td>37.71</td>\n",
       "      <td>90.30</td>\n",
       "      <td>717.10</td>\n",
       "      <td>792.32</td>\n",
       "    </tr>\n",
       "    <tr>\n",
       "      <th>3</th>\n",
       "      <td>1975</td>\n",
       "      <td>CO00101</td>\n",
       "      <td>Aurora, CO</td>\n",
       "      <td>116656.0</td>\n",
       "      <td>611.0</td>\n",
       "      <td>7.0</td>\n",
       "      <td>44.0</td>\n",
       "      <td>389.0</td>\n",
       "      <td>171.0</td>\n",
       "      <td>12.0</td>\n",
       "      <td>523.76</td>\n",
       "      <td>6.00</td>\n",
       "      <td>37.72</td>\n",
       "      <td>333.46</td>\n",
       "      <td>146.58</td>\n",
       "    </tr>\n",
       "    <tr>\n",
       "      <th>4</th>\n",
       "      <td>1975</td>\n",
       "      <td>TX22701</td>\n",
       "      <td>Austin, TX</td>\n",
       "      <td>300400.0</td>\n",
       "      <td>1215.0</td>\n",
       "      <td>33.0</td>\n",
       "      <td>190.0</td>\n",
       "      <td>463.0</td>\n",
       "      <td>529.0</td>\n",
       "      <td>12.0</td>\n",
       "      <td>404.46</td>\n",
       "      <td>10.99</td>\n",
       "      <td>63.25</td>\n",
       "      <td>154.13</td>\n",
       "      <td>176.10</td>\n",
       "    </tr>\n",
       "    <tr>\n",
       "      <th>5</th>\n",
       "      <td>1975</td>\n",
       "      <td>MD00301</td>\n",
       "      <td>Baltimore County, MD</td>\n",
       "      <td>642154.0</td>\n",
       "      <td>1259.0</td>\n",
       "      <td>25.0</td>\n",
       "      <td>137.0</td>\n",
       "      <td>347.0</td>\n",
       "      <td>750.0</td>\n",
       "      <td>12.0</td>\n",
       "      <td>196.06</td>\n",
       "      <td>3.89</td>\n",
       "      <td>21.33</td>\n",
       "      <td>54.04</td>\n",
       "      <td>116.79</td>\n",
       "    </tr>\n",
       "    <tr>\n",
       "      <th>6</th>\n",
       "      <td>1975</td>\n",
       "      <td>MDBPD00</td>\n",
       "      <td>Baltimore, MD</td>\n",
       "      <td>864100.0</td>\n",
       "      <td>16086.0</td>\n",
       "      <td>259.0</td>\n",
       "      <td>463.0</td>\n",
       "      <td>6309.0</td>\n",
       "      <td>9055.0</td>\n",
       "      <td>12.0</td>\n",
       "      <td>1861.59</td>\n",
       "      <td>29.97</td>\n",
       "      <td>53.58</td>\n",
       "      <td>730.12</td>\n",
       "      <td>1047.91</td>\n",
       "    </tr>\n",
       "    <tr>\n",
       "      <th>7</th>\n",
       "      <td>1975</td>\n",
       "      <td>MA01301</td>\n",
       "      <td>Boston, MA</td>\n",
       "      <td>616120.0</td>\n",
       "      <td>11386.0</td>\n",
       "      <td>119.0</td>\n",
       "      <td>453.0</td>\n",
       "      <td>3036.0</td>\n",
       "      <td>7778.0</td>\n",
       "      <td>12.0</td>\n",
       "      <td>1848.02</td>\n",
       "      <td>19.31</td>\n",
       "      <td>73.52</td>\n",
       "      <td>492.76</td>\n",
       "      <td>1262.42</td>\n",
       "    </tr>\n",
       "    <tr>\n",
       "      <th>8</th>\n",
       "      <td>1975</td>\n",
       "      <td>NY01401</td>\n",
       "      <td>Buffalo, NY</td>\n",
       "      <td>422276.0</td>\n",
       "      <td>3350.0</td>\n",
       "      <td>63.0</td>\n",
       "      <td>192.0</td>\n",
       "      <td>755.0</td>\n",
       "      <td>2340.0</td>\n",
       "      <td>12.0</td>\n",
       "      <td>793.32</td>\n",
       "      <td>14.92</td>\n",
       "      <td>45.47</td>\n",
       "      <td>178.79</td>\n",
       "      <td>554.14</td>\n",
       "    </tr>\n",
       "    <tr>\n",
       "      <th>9</th>\n",
       "      <td>1975</td>\n",
       "      <td>NC06001</td>\n",
       "      <td>Charlotte, NC</td>\n",
       "      <td>262103.0</td>\n",
       "      <td>1937.0</td>\n",
       "      <td>68.0</td>\n",
       "      <td>71.0</td>\n",
       "      <td>976.0</td>\n",
       "      <td>822.0</td>\n",
       "      <td>12.0</td>\n",
       "      <td>739.02</td>\n",
       "      <td>25.94</td>\n",
       "      <td>27.09</td>\n",
       "      <td>372.37</td>\n",
       "      <td>313.62</td>\n",
       "    </tr>\n",
       "  </tbody>\n",
       "</table>\n",
       "</div>"
      ],
      "text/plain": [
       "   report_year agency_code   agency_jurisdiction  population  violent_crimes  \\\n",
       "0         1975     NM00101       Albuquerque, NM    286238.0          2383.0   \n",
       "1         1975     TX22001         Arlington, TX    112478.0           278.0   \n",
       "2         1975     GAAPD00           Atlanta, GA    490584.0          8033.0   \n",
       "3         1975     CO00101            Aurora, CO    116656.0           611.0   \n",
       "4         1975     TX22701            Austin, TX    300400.0          1215.0   \n",
       "5         1975     MD00301  Baltimore County, MD    642154.0          1259.0   \n",
       "6         1975     MDBPD00         Baltimore, MD    864100.0         16086.0   \n",
       "7         1975     MA01301            Boston, MA    616120.0         11386.0   \n",
       "8         1975     NY01401           Buffalo, NY    422276.0          3350.0   \n",
       "9         1975     NC06001         Charlotte, NC    262103.0          1937.0   \n",
       "\n",
       "   homicides  rapes  assaults  robberies  months_reported  crimes_percapita  \\\n",
       "0       30.0  181.0    1353.0      819.0             12.0            832.52   \n",
       "1        5.0   28.0     132.0      113.0             12.0            247.16   \n",
       "2      185.0  443.0    3518.0     3887.0             12.0           1637.44   \n",
       "3        7.0   44.0     389.0      171.0             12.0            523.76   \n",
       "4       33.0  190.0     463.0      529.0             12.0            404.46   \n",
       "5       25.0  137.0     347.0      750.0             12.0            196.06   \n",
       "6      259.0  463.0    6309.0     9055.0             12.0           1861.59   \n",
       "7      119.0  453.0    3036.0     7778.0             12.0           1848.02   \n",
       "8       63.0  192.0     755.0     2340.0             12.0            793.32   \n",
       "9       68.0   71.0     976.0      822.0             12.0            739.02   \n",
       "\n",
       "   homicides_percapita  rapes_percapita  assaults_percapita  \\\n",
       "0                10.48            63.23              472.68   \n",
       "1                 4.45            24.89              117.36   \n",
       "2                37.71            90.30              717.10   \n",
       "3                 6.00            37.72              333.46   \n",
       "4                10.99            63.25              154.13   \n",
       "5                 3.89            21.33               54.04   \n",
       "6                29.97            53.58              730.12   \n",
       "7                19.31            73.52              492.76   \n",
       "8                14.92            45.47              178.79   \n",
       "9                25.94            27.09              372.37   \n",
       "\n",
       "   robberies_percapita  \n",
       "0               286.13  \n",
       "1               100.46  \n",
       "2               792.32  \n",
       "3               146.58  \n",
       "4               176.10  \n",
       "5               116.79  \n",
       "6              1047.91  \n",
       "7              1262.42  \n",
       "8               554.14  \n",
       "9               313.62  "
      ]
     },
     "execution_count": 279,
     "metadata": {},
     "output_type": "execute_result"
    }
   ],
   "source": [
    "crimehead=crimemain.head(n=10)\n",
    "crimehead"
   ]
  },
  {
   "cell_type": "markdown",
   "metadata": {},
   "source": [
    "Above table shows the top 10 rows of the table \"report.csv\"."
   ]
  },
  {
   "cell_type": "markdown",
   "metadata": {},
   "source": [
    "### 2.2 Displaying bottom 10 rows of dataset."
   ]
  },
  {
   "cell_type": "code",
   "execution_count": 280,
   "metadata": {
    "scrolled": true
   },
   "outputs": [
    {
     "data": {
      "text/html": [
       "<div>\n",
       "<style scoped>\n",
       "    .dataframe tbody tr th:only-of-type {\n",
       "        vertical-align: middle;\n",
       "    }\n",
       "\n",
       "    .dataframe tbody tr th {\n",
       "        vertical-align: top;\n",
       "    }\n",
       "\n",
       "    .dataframe thead th {\n",
       "        text-align: right;\n",
       "    }\n",
       "</style>\n",
       "<table border=\"1\" class=\"dataframe\">\n",
       "  <thead>\n",
       "    <tr style=\"text-align: right;\">\n",
       "      <th></th>\n",
       "      <th>report_year</th>\n",
       "      <th>agency_code</th>\n",
       "      <th>agency_jurisdiction</th>\n",
       "      <th>population</th>\n",
       "      <th>violent_crimes</th>\n",
       "      <th>homicides</th>\n",
       "      <th>rapes</th>\n",
       "      <th>assaults</th>\n",
       "      <th>robberies</th>\n",
       "      <th>months_reported</th>\n",
       "      <th>crimes_percapita</th>\n",
       "      <th>homicides_percapita</th>\n",
       "      <th>rapes_percapita</th>\n",
       "      <th>assaults_percapita</th>\n",
       "      <th>robberies_percapita</th>\n",
       "    </tr>\n",
       "  </thead>\n",
       "  <tbody>\n",
       "    <tr>\n",
       "      <th>2818</th>\n",
       "      <td>2015</td>\n",
       "      <td>CA04313</td>\n",
       "      <td>San Jose, CA</td>\n",
       "      <td>1031458.0</td>\n",
       "      <td>3400.0</td>\n",
       "      <td>30.0</td>\n",
       "      <td>375.0</td>\n",
       "      <td>1855.0</td>\n",
       "      <td>1140.0</td>\n",
       "      <td>NaN</td>\n",
       "      <td>329.63</td>\n",
       "      <td>2.91</td>\n",
       "      <td>36.36</td>\n",
       "      <td>179.84</td>\n",
       "      <td>110.52</td>\n",
       "    </tr>\n",
       "    <tr>\n",
       "      <th>2819</th>\n",
       "      <td>2015</td>\n",
       "      <td>WASPD00</td>\n",
       "      <td>Seattle, WA</td>\n",
       "      <td>683700.0</td>\n",
       "      <td>4093.0</td>\n",
       "      <td>23.0</td>\n",
       "      <td>144.0</td>\n",
       "      <td>2394.0</td>\n",
       "      <td>1532.0</td>\n",
       "      <td>NaN</td>\n",
       "      <td>598.65</td>\n",
       "      <td>3.36</td>\n",
       "      <td>21.06</td>\n",
       "      <td>350.15</td>\n",
       "      <td>224.07</td>\n",
       "    </tr>\n",
       "    <tr>\n",
       "      <th>2820</th>\n",
       "      <td>2015</td>\n",
       "      <td>MOSPD00</td>\n",
       "      <td>St. Louis, MO</td>\n",
       "      <td>317095.0</td>\n",
       "      <td>5762.0</td>\n",
       "      <td>188.0</td>\n",
       "      <td>263.0</td>\n",
       "      <td>3521.0</td>\n",
       "      <td>1790.0</td>\n",
       "      <td>NaN</td>\n",
       "      <td>1817.12</td>\n",
       "      <td>59.29</td>\n",
       "      <td>82.94</td>\n",
       "      <td>1110.39</td>\n",
       "      <td>564.50</td>\n",
       "    </tr>\n",
       "    <tr>\n",
       "      <th>2821</th>\n",
       "      <td>2015</td>\n",
       "      <td>NY05101</td>\n",
       "      <td>Suffolk County, NY</td>\n",
       "      <td>1341453.0</td>\n",
       "      <td>1675.0</td>\n",
       "      <td>24.0</td>\n",
       "      <td>79.0</td>\n",
       "      <td>895.0</td>\n",
       "      <td>677.0</td>\n",
       "      <td>NaN</td>\n",
       "      <td>124.86</td>\n",
       "      <td>1.79</td>\n",
       "      <td>5.89</td>\n",
       "      <td>66.72</td>\n",
       "      <td>50.47</td>\n",
       "    </tr>\n",
       "    <tr>\n",
       "      <th>2822</th>\n",
       "      <td>2015</td>\n",
       "      <td>FL02902</td>\n",
       "      <td>Tampa, FL</td>\n",
       "      <td>364383.0</td>\n",
       "      <td>2298.0</td>\n",
       "      <td>34.0</td>\n",
       "      <td>77.0</td>\n",
       "      <td>1516.0</td>\n",
       "      <td>671.0</td>\n",
       "      <td>NaN</td>\n",
       "      <td>630.66</td>\n",
       "      <td>9.33</td>\n",
       "      <td>21.13</td>\n",
       "      <td>416.05</td>\n",
       "      <td>184.15</td>\n",
       "    </tr>\n",
       "    <tr>\n",
       "      <th>2823</th>\n",
       "      <td>2015</td>\n",
       "      <td>AZ01003</td>\n",
       "      <td>Tucson, AZ</td>\n",
       "      <td>529675.0</td>\n",
       "      <td>3472.0</td>\n",
       "      <td>31.0</td>\n",
       "      <td>422.0</td>\n",
       "      <td>1960.0</td>\n",
       "      <td>1059.0</td>\n",
       "      <td>NaN</td>\n",
       "      <td>655.50</td>\n",
       "      <td>5.85</td>\n",
       "      <td>79.67</td>\n",
       "      <td>370.04</td>\n",
       "      <td>199.93</td>\n",
       "    </tr>\n",
       "    <tr>\n",
       "      <th>2824</th>\n",
       "      <td>2015</td>\n",
       "      <td>OK07205</td>\n",
       "      <td>Tulsa, OK</td>\n",
       "      <td>401520.0</td>\n",
       "      <td>3628.0</td>\n",
       "      <td>55.0</td>\n",
       "      <td>365.0</td>\n",
       "      <td>2354.0</td>\n",
       "      <td>854.0</td>\n",
       "      <td>NaN</td>\n",
       "      <td>903.57</td>\n",
       "      <td>13.70</td>\n",
       "      <td>90.90</td>\n",
       "      <td>586.27</td>\n",
       "      <td>212.69</td>\n",
       "    </tr>\n",
       "    <tr>\n",
       "      <th>2825</th>\n",
       "      <td>2015</td>\n",
       "      <td>VA12800</td>\n",
       "      <td>Virginia Beach, VA</td>\n",
       "      <td>452797.0</td>\n",
       "      <td>626.0</td>\n",
       "      <td>19.0</td>\n",
       "      <td>103.0</td>\n",
       "      <td>234.0</td>\n",
       "      <td>270.0</td>\n",
       "      <td>NaN</td>\n",
       "      <td>138.25</td>\n",
       "      <td>4.20</td>\n",
       "      <td>22.75</td>\n",
       "      <td>51.68</td>\n",
       "      <td>59.63</td>\n",
       "    </tr>\n",
       "    <tr>\n",
       "      <th>2826</th>\n",
       "      <td>2015</td>\n",
       "      <td>DCMPD00</td>\n",
       "      <td>Washington, DC</td>\n",
       "      <td>672228.0</td>\n",
       "      <td>8084.0</td>\n",
       "      <td>162.0</td>\n",
       "      <td>494.0</td>\n",
       "      <td>4024.0</td>\n",
       "      <td>3404.0</td>\n",
       "      <td>NaN</td>\n",
       "      <td>1202.57</td>\n",
       "      <td>24.10</td>\n",
       "      <td>73.49</td>\n",
       "      <td>598.61</td>\n",
       "      <td>506.38</td>\n",
       "    </tr>\n",
       "    <tr>\n",
       "      <th>2827</th>\n",
       "      <td>2015</td>\n",
       "      <td>KS08703</td>\n",
       "      <td>Wichita, KS</td>\n",
       "      <td>389824.0</td>\n",
       "      <td>3839.0</td>\n",
       "      <td>27.0</td>\n",
       "      <td>349.0</td>\n",
       "      <td>2730.0</td>\n",
       "      <td>733.0</td>\n",
       "      <td>NaN</td>\n",
       "      <td>984.80</td>\n",
       "      <td>6.93</td>\n",
       "      <td>89.53</td>\n",
       "      <td>700.32</td>\n",
       "      <td>188.03</td>\n",
       "    </tr>\n",
       "  </tbody>\n",
       "</table>\n",
       "</div>"
      ],
      "text/plain": [
       "      report_year agency_code agency_jurisdiction  population  violent_crimes  \\\n",
       "2818         2015     CA04313        San Jose, CA   1031458.0          3400.0   \n",
       "2819         2015     WASPD00         Seattle, WA    683700.0          4093.0   \n",
       "2820         2015     MOSPD00       St. Louis, MO    317095.0          5762.0   \n",
       "2821         2015     NY05101  Suffolk County, NY   1341453.0          1675.0   \n",
       "2822         2015     FL02902           Tampa, FL    364383.0          2298.0   \n",
       "2823         2015     AZ01003          Tucson, AZ    529675.0          3472.0   \n",
       "2824         2015     OK07205           Tulsa, OK    401520.0          3628.0   \n",
       "2825         2015     VA12800  Virginia Beach, VA    452797.0           626.0   \n",
       "2826         2015     DCMPD00      Washington, DC    672228.0          8084.0   \n",
       "2827         2015     KS08703         Wichita, KS    389824.0          3839.0   \n",
       "\n",
       "      homicides  rapes  assaults  robberies  months_reported  \\\n",
       "2818       30.0  375.0    1855.0     1140.0              NaN   \n",
       "2819       23.0  144.0    2394.0     1532.0              NaN   \n",
       "2820      188.0  263.0    3521.0     1790.0              NaN   \n",
       "2821       24.0   79.0     895.0      677.0              NaN   \n",
       "2822       34.0   77.0    1516.0      671.0              NaN   \n",
       "2823       31.0  422.0    1960.0     1059.0              NaN   \n",
       "2824       55.0  365.0    2354.0      854.0              NaN   \n",
       "2825       19.0  103.0     234.0      270.0              NaN   \n",
       "2826      162.0  494.0    4024.0     3404.0              NaN   \n",
       "2827       27.0  349.0    2730.0      733.0              NaN   \n",
       "\n",
       "      crimes_percapita  homicides_percapita  rapes_percapita  \\\n",
       "2818            329.63                 2.91            36.36   \n",
       "2819            598.65                 3.36            21.06   \n",
       "2820           1817.12                59.29            82.94   \n",
       "2821            124.86                 1.79             5.89   \n",
       "2822            630.66                 9.33            21.13   \n",
       "2823            655.50                 5.85            79.67   \n",
       "2824            903.57                13.70            90.90   \n",
       "2825            138.25                 4.20            22.75   \n",
       "2826           1202.57                24.10            73.49   \n",
       "2827            984.80                 6.93            89.53   \n",
       "\n",
       "      assaults_percapita  robberies_percapita  \n",
       "2818              179.84               110.52  \n",
       "2819              350.15               224.07  \n",
       "2820             1110.39               564.50  \n",
       "2821               66.72                50.47  \n",
       "2822              416.05               184.15  \n",
       "2823              370.04               199.93  \n",
       "2824              586.27               212.69  \n",
       "2825               51.68                59.63  \n",
       "2826              598.61               506.38  \n",
       "2827              700.32               188.03  "
      ]
     },
     "execution_count": 280,
     "metadata": {},
     "output_type": "execute_result"
    }
   ],
   "source": [
    "crimetail=crimemain.tail(n=10)\n",
    "crimetail"
   ]
  },
  {
   "cell_type": "markdown",
   "metadata": {},
   "source": [
    "Above table shows the bottom 10 rows of the table \"report.csv\"."
   ]
  },
  {
   "cell_type": "markdown",
   "metadata": {},
   "source": [
    "### 2.3 Displaying the number of rows and columns of dataset."
   ]
  },
  {
   "cell_type": "code",
   "execution_count": 281,
   "metadata": {},
   "outputs": [
    {
     "data": {
      "text/plain": [
       "2788"
      ]
     },
     "execution_count": 281,
     "metadata": {},
     "output_type": "execute_result"
    }
   ],
   "source": [
    "crimerows=len(crimemain.index)\n",
    "crimerows"
   ]
  },
  {
   "cell_type": "markdown",
   "metadata": {},
   "source": [
    "There are 2788 rows in this dataset."
   ]
  },
  {
   "cell_type": "code",
   "execution_count": 282,
   "metadata": {},
   "outputs": [
    {
     "data": {
      "text/plain": [
       "15"
      ]
     },
     "execution_count": 282,
     "metadata": {},
     "output_type": "execute_result"
    }
   ],
   "source": [
    "crimecolumns=len(crimemain.columns)\n",
    "crimecolumns"
   ]
  },
  {
   "cell_type": "markdown",
   "metadata": {},
   "source": [
    "There are 15 columns in this dataset."
   ]
  },
  {
   "cell_type": "markdown",
   "metadata": {},
   "source": [
    "### 2.4 Displaying the total number poilce jurisdictions."
   ]
  },
  {
   "cell_type": "code",
   "execution_count": 283,
   "metadata": {},
   "outputs": [
    {
     "data": {
      "text/plain": [
       "68"
      ]
     },
     "execution_count": 283,
     "metadata": {},
     "output_type": "execute_result"
    }
   ],
   "source": [
    "a = set(crimemain[\"agency_jurisdiction\"])\n",
    "len(a)"
   ]
  },
  {
   "cell_type": "markdown",
   "metadata": {},
   "source": [
    "In total there are 68 different police jurisdictions in this datset.  "
   ]
  },
  {
   "cell_type": "markdown",
   "metadata": {},
   "source": [
    "### 2.5 Displaying the highest and lowest number of reported violent_crimes per 100000 residents ever from 1975 to 2015."
   ]
  },
  {
   "cell_type": "code",
   "execution_count": 284,
   "metadata": {},
   "outputs": [
    {
     "data": {
      "text/plain": [
       "4352.83"
      ]
     },
     "execution_count": 284,
     "metadata": {},
     "output_type": "execute_result"
    }
   ],
   "source": [
    "MAX = max(crimemain[\"crimes_percapita\"])\n",
    "MAX"
   ]
  },
  {
   "cell_type": "markdown",
   "metadata": {},
   "source": [
    "Highest number of violent crimes reported ever among all 68 police jurisdictions for one single year from 1975 to 2015 is <b>4352</b> per 100,000 residents as per this dataset"
   ]
  },
  {
   "cell_type": "code",
   "execution_count": 285,
   "metadata": {
    "scrolled": false
   },
   "outputs": [
    {
     "data": {
      "text/plain": [
       "16.49"
      ]
     },
     "execution_count": 285,
     "metadata": {},
     "output_type": "execute_result"
    }
   ],
   "source": [
    "MIN = min(crimemain[\"crimes_percapita\"])\n",
    "MIN"
   ]
  },
  {
   "cell_type": "markdown",
   "metadata": {},
   "source": [
    "Lowest number of violent crimes reported ever among all 68 police jurisdictions for one single year from 1975 to 2015 is <b>16.49</b> per 100,000 residents as per this dataset"
   ]
  },
  {
   "cell_type": "markdown",
   "metadata": {},
   "source": [
    "## 3. One column selection"
   ]
  },
  {
   "cell_type": "markdown",
   "metadata": {},
   "source": [
    "### 3.1 List out top ten places with highest crimes_percapita from year 1975 to 2015."
   ]
  },
  {
   "cell_type": "code",
   "execution_count": 286,
   "metadata": {
    "scrolled": true
   },
   "outputs": [
    {
     "data": {
      "text/html": [
       "<div>\n",
       "<style scoped>\n",
       "    .dataframe tbody tr th:only-of-type {\n",
       "        vertical-align: middle;\n",
       "    }\n",
       "\n",
       "    .dataframe tbody tr th {\n",
       "        vertical-align: top;\n",
       "    }\n",
       "\n",
       "    .dataframe thead th {\n",
       "        text-align: right;\n",
       "    }\n",
       "</style>\n",
       "<table border=\"1\" class=\"dataframe\">\n",
       "  <thead>\n",
       "    <tr style=\"text-align: right;\">\n",
       "      <th></th>\n",
       "      <th>crimes_percapita</th>\n",
       "    </tr>\n",
       "  </thead>\n",
       "  <tbody>\n",
       "    <tr>\n",
       "      <th>1069</th>\n",
       "      <td>4352.83</td>\n",
       "    </tr>\n",
       "    <tr>\n",
       "      <th>1138</th>\n",
       "      <td>4190.84</td>\n",
       "    </tr>\n",
       "    <tr>\n",
       "      <th>1037</th>\n",
       "      <td>4085.36</td>\n",
       "    </tr>\n",
       "    <tr>\n",
       "      <th>1106</th>\n",
       "      <td>4050.51</td>\n",
       "    </tr>\n",
       "    <tr>\n",
       "      <th>1244</th>\n",
       "      <td>4041.18</td>\n",
       "    </tr>\n",
       "    <tr>\n",
       "      <th>1422</th>\n",
       "      <td>3985.29</td>\n",
       "    </tr>\n",
       "    <tr>\n",
       "      <th>968</th>\n",
       "      <td>3951.40</td>\n",
       "    </tr>\n",
       "    <tr>\n",
       "      <th>1276</th>\n",
       "      <td>3892.96</td>\n",
       "    </tr>\n",
       "    <tr>\n",
       "      <th>1077</th>\n",
       "      <td>3881.97</td>\n",
       "    </tr>\n",
       "    <tr>\n",
       "      <th>1302</th>\n",
       "      <td>3874.92</td>\n",
       "    </tr>\n",
       "  </tbody>\n",
       "</table>\n",
       "</div>"
      ],
      "text/plain": [
       "      crimes_percapita\n",
       "1069           4352.83\n",
       "1138           4190.84\n",
       "1037           4085.36\n",
       "1106           4050.51\n",
       "1244           4041.18\n",
       "1422           3985.29\n",
       "968            3951.40\n",
       "1276           3892.96\n",
       "1077           3881.97\n",
       "1302           3874.92"
      ]
     },
     "execution_count": 286,
     "metadata": {},
     "output_type": "execute_result"
    }
   ],
   "source": [
    "df = pd.DataFrame(crimemain,columns=['crimes_percapita'])\n",
    "Sortbycrimes_percapita = df.sort_values('crimes_percapita',ascending=False)\n",
    "Sortbycrimes_percapita.head(10)"
   ]
  },
  {
   "cell_type": "markdown",
   "metadata": {},
   "source": [
    "The above selected column displays the 10 largest values of crimes_percapita ever recorded in 68 police jurisdictions from year 1975 to 2015. This ten incidents can be marked as the <b>most unsafe period</b> in last 40 years."
   ]
  },
  {
   "cell_type": "markdown",
   "metadata": {},
   "source": [
    "## 4. Sort"
   ]
  },
  {
   "cell_type": "markdown",
   "metadata": {},
   "source": [
    "### 4.1 create a dataset with just 5 columns ordered by one or two columns. "
   ]
  },
  {
   "cell_type": "code",
   "execution_count": 290,
   "metadata": {},
   "outputs": [
    {
     "data": {
      "text/html": [
       "<div>\n",
       "<style scoped>\n",
       "    .dataframe tbody tr th:only-of-type {\n",
       "        vertical-align: middle;\n",
       "    }\n",
       "\n",
       "    .dataframe tbody tr th {\n",
       "        vertical-align: top;\n",
       "    }\n",
       "\n",
       "    .dataframe thead th {\n",
       "        text-align: right;\n",
       "    }\n",
       "</style>\n",
       "<table border=\"1\" class=\"dataframe\">\n",
       "  <thead>\n",
       "    <tr style=\"text-align: right;\">\n",
       "      <th></th>\n",
       "      <th>report_year</th>\n",
       "      <th>agency_jurisdiction</th>\n",
       "      <th>rapes_percapita</th>\n",
       "      <th>assaults_percapita</th>\n",
       "      <th>homicides_percapita</th>\n",
       "    </tr>\n",
       "  </thead>\n",
       "  <tbody>\n",
       "    <tr>\n",
       "      <th>1140</th>\n",
       "      <td>1991</td>\n",
       "      <td>Minneapolis, MN</td>\n",
       "      <td>199.30</td>\n",
       "      <td>661.93</td>\n",
       "      <td>17.14</td>\n",
       "    </tr>\n",
       "    <tr>\n",
       "      <th>732</th>\n",
       "      <td>1985</td>\n",
       "      <td>Newark, NJ</td>\n",
       "      <td>187.76</td>\n",
       "      <td>1171.15</td>\n",
       "      <td>36.98</td>\n",
       "    </tr>\n",
       "    <tr>\n",
       "      <th>943</th>\n",
       "      <td>1988</td>\n",
       "      <td>Orlando, FL</td>\n",
       "      <td>185.65</td>\n",
       "      <td>1311.08</td>\n",
       "      <td>17.99</td>\n",
       "    </tr>\n",
       "    <tr>\n",
       "      <th>801</th>\n",
       "      <td>1986</td>\n",
       "      <td>Newark, NJ</td>\n",
       "      <td>184.75</td>\n",
       "      <td>1252.82</td>\n",
       "      <td>35.45</td>\n",
       "    </tr>\n",
       "    <tr>\n",
       "      <th>663</th>\n",
       "      <td>1984</td>\n",
       "      <td>Newark, NJ</td>\n",
       "      <td>181.25</td>\n",
       "      <td>998.27</td>\n",
       "      <td>26.77</td>\n",
       "    </tr>\n",
       "    <tr>\n",
       "      <th>870</th>\n",
       "      <td>1987</td>\n",
       "      <td>Newark, NJ</td>\n",
       "      <td>181.22</td>\n",
       "      <td>1268.21</td>\n",
       "      <td>25.44</td>\n",
       "    </tr>\n",
       "    <tr>\n",
       "      <th>456</th>\n",
       "      <td>1981</td>\n",
       "      <td>Newark, NJ</td>\n",
       "      <td>179.72</td>\n",
       "      <td>1136.90</td>\n",
       "      <td>48.39</td>\n",
       "    </tr>\n",
       "    <tr>\n",
       "      <th>1116</th>\n",
       "      <td>1991</td>\n",
       "      <td>Cleveland, OH</td>\n",
       "      <td>179.06</td>\n",
       "      <td>612.08</td>\n",
       "      <td>34.32</td>\n",
       "    </tr>\n",
       "    <tr>\n",
       "      <th>1037</th>\n",
       "      <td>1990</td>\n",
       "      <td>Atlanta, GA</td>\n",
       "      <td>176.39</td>\n",
       "      <td>2299.90</td>\n",
       "      <td>58.63</td>\n",
       "    </tr>\n",
       "    <tr>\n",
       "      <th>1106</th>\n",
       "      <td>1991</td>\n",
       "      <td>Atlanta, GA</td>\n",
       "      <td>167.71</td>\n",
       "      <td>2224.59</td>\n",
       "      <td>50.86</td>\n",
       "    </tr>\n",
       "    <tr>\n",
       "      <th>1047</th>\n",
       "      <td>1990</td>\n",
       "      <td>Cleveland, OH</td>\n",
       "      <td>167.32</td>\n",
       "      <td>644.56</td>\n",
       "      <td>33.23</td>\n",
       "    </tr>\n",
       "    <tr>\n",
       "      <th>1071</th>\n",
       "      <td>1990</td>\n",
       "      <td>Minneapolis, MN</td>\n",
       "      <td>166.95</td>\n",
       "      <td>398.23</td>\n",
       "      <td>14.93</td>\n",
       "    </tr>\n",
       "    <tr>\n",
       "      <th>1185</th>\n",
       "      <td>1992</td>\n",
       "      <td>Cleveland, OH</td>\n",
       "      <td>166.31</td>\n",
       "      <td>603.33</td>\n",
       "      <td>30.58</td>\n",
       "    </tr>\n",
       "    <tr>\n",
       "      <th>387</th>\n",
       "      <td>1980</td>\n",
       "      <td>Newark, NJ</td>\n",
       "      <td>165.40</td>\n",
       "      <td>1125.71</td>\n",
       "      <td>49.38</td>\n",
       "    </tr>\n",
       "    <tr>\n",
       "      <th>1254</th>\n",
       "      <td>1993</td>\n",
       "      <td>Cleveland, OH</td>\n",
       "      <td>164.91</td>\n",
       "      <td>595.57</td>\n",
       "      <td>33.02</td>\n",
       "    </tr>\n",
       "  </tbody>\n",
       "</table>\n",
       "</div>"
      ],
      "text/plain": [
       "      report_year agency_jurisdiction  rapes_percapita  assaults_percapita  \\\n",
       "1140         1991     Minneapolis, MN           199.30              661.93   \n",
       "732          1985          Newark, NJ           187.76             1171.15   \n",
       "943          1988         Orlando, FL           185.65             1311.08   \n",
       "801          1986          Newark, NJ           184.75             1252.82   \n",
       "663          1984          Newark, NJ           181.25              998.27   \n",
       "870          1987          Newark, NJ           181.22             1268.21   \n",
       "456          1981          Newark, NJ           179.72             1136.90   \n",
       "1116         1991       Cleveland, OH           179.06              612.08   \n",
       "1037         1990         Atlanta, GA           176.39             2299.90   \n",
       "1106         1991         Atlanta, GA           167.71             2224.59   \n",
       "1047         1990       Cleveland, OH           167.32              644.56   \n",
       "1071         1990     Minneapolis, MN           166.95              398.23   \n",
       "1185         1992       Cleveland, OH           166.31              603.33   \n",
       "387          1980          Newark, NJ           165.40             1125.71   \n",
       "1254         1993       Cleveland, OH           164.91              595.57   \n",
       "\n",
       "      homicides_percapita  \n",
       "1140                17.14  \n",
       "732                 36.98  \n",
       "943                 17.99  \n",
       "801                 35.45  \n",
       "663                 26.77  \n",
       "870                 25.44  \n",
       "456                 48.39  \n",
       "1116                34.32  \n",
       "1037                58.63  \n",
       "1106                50.86  \n",
       "1047                33.23  \n",
       "1071                14.93  \n",
       "1185                30.58  \n",
       "387                 49.38  \n",
       "1254                33.02  "
      ]
     },
     "execution_count": 290,
     "metadata": {},
     "output_type": "execute_result"
    }
   ],
   "source": [
    "ds = pd.DataFrame(crimemain,columns=['report_year','agency_jurisdiction','rapes_percapita','assaults_percapita','homicides_percapita'])\n",
    "Sortbyrapes_percapita = ds.sort_values('rapes_percapita',ascending=False)\n",
    "Sortbyrapes_percapita.head(15)"
   ]
  },
  {
   "cell_type": "markdown",
   "metadata": {},
   "source": [
    "The columns <b>report_year, agency_jurisdiction, rapes_percapita, assaults_percapita and homicides_percapita</b> are selected and are <b>order by \"rapes_percapita\"</b> that helps in showcasing <b>the most unsafe scenerios for women</b> including all 68 police jurisdiction from year 1975 to 2015. "
   ]
  },
  {
   "cell_type": "markdown",
   "metadata": {},
   "source": [
    "## 5. Series"
   ]
  },
  {
   "cell_type": "code",
   "execution_count": 297,
   "metadata": {
    "scrolled": true
   },
   "outputs": [],
   "source": [
    "dfseries = pd.DataFrame(crimemain,columns=['report_year','agency_jurisdiction','crimes_percapita','rapes_percapita',\n",
    "                                           'assaults_percapita','homicides_percapita','robberies_percapita'])"
   ]
  },
  {
   "cell_type": "markdown",
   "metadata": {},
   "source": [
    "### 5.1 Series no.1 is of column 'agency_jurisdiction'"
   ]
  },
  {
   "cell_type": "code",
   "execution_count": 298,
   "metadata": {},
   "outputs": [
    {
     "data": {
      "text/plain": [
       "2820       St. Louis, MO\n",
       "2776         Detroit, MI\n",
       "2791         Memphis, TN\n",
       "2795       Milwaukee, WI\n",
       "2766       Baltimore, MD\n",
       "2803         Oakland, CA\n",
       "2785     Kansas City, MO\n",
       "2783    Indianapolis, IN\n",
       "2826      Washington, DC\n",
       "2762         Atlanta, GA\n",
       "Name: agency_jurisdiction, dtype: object"
      ]
     },
     "execution_count": 298,
     "metadata": {},
     "output_type": "execute_result"
    }
   ],
   "source": [
    "Sortbyreport_year = dfseries.sort_values(by=['report_year','crimes_percapita'],ascending=False)\n",
    "series1=Series(Sortbyreport_year['agency_jurisdiction'])\n",
    "series1.head(10)"
   ]
  },
  {
   "cell_type": "markdown",
   "metadata": {},
   "source": [
    "The column \"agency_jurisdiction\" is selected which represents the <b>crimes_percapita</b> for year 2015 in descending order. <br>\n",
    "Head function is used to list out the <b>top 10 'highest number of crimes_percapita' for the year 2015 </b> among all the agency_juridictions."
   ]
  },
  {
   "cell_type": "markdown",
   "metadata": {},
   "source": [
    "### 5.2 Series no. 2 is of column 'rapes_percapita'"
   ]
  },
  {
   "cell_type": "code",
   "execution_count": 299,
   "metadata": {},
   "outputs": [
    {
     "data": {
      "text/plain": [
       "2814    151.57\n",
       "2800    103.95\n",
       "2796     98.43\n",
       "2763     97.71\n",
       "2773     95.08\n",
       "2824     90.90\n",
       "2827     89.53\n",
       "2807     84.32\n",
       "2820     82.94\n",
       "2791     80.55\n",
       "Name: rapes_percapita, dtype: float64"
      ]
     },
     "execution_count": 299,
     "metadata": {},
     "output_type": "execute_result"
    }
   ],
   "source": [
    "Sortbyreport_year = dfseries.sort_values(by=['report_year','rapes_percapita'],ascending=False)\n",
    "series2=Series(Sortbyreport_year['rapes_percapita'])\n",
    "series2.head(10)"
   ]
  },
  {
   "cell_type": "markdown",
   "metadata": {},
   "source": [
    "The column \"rapes_percapita\" is selected which represents the agency_juridictions with <b>rapes_percapita</b> for year 2015 in descending order. <br>\n",
    "Head function is used to list out the <b>top 10 'highest number of rapes_percapita' for the year 2015 </b> among all the agency_juridictions."
   ]
  },
  {
   "cell_type": "markdown",
   "metadata": {},
   "source": [
    "### 5.3 Series no. 3 is of column 'assaults_percapita'"
   ]
  },
  {
   "cell_type": "code",
   "execution_count": 300,
   "metadata": {},
   "outputs": [
    {
     "data": {
      "text/plain": [
       "2791    1163.18\n",
       "2776    1123.55\n",
       "2820    1110.39\n",
       "2785     957.17\n",
       "2795     874.92\n",
       "2783     752.25\n",
       "2766     740.12\n",
       "2798     732.34\n",
       "2827     700.32\n",
       "2806     666.45\n",
       "Name: assaults_percapita, dtype: float64"
      ]
     },
     "execution_count": 300,
     "metadata": {},
     "output_type": "execute_result"
    }
   ],
   "source": [
    "Sortbyreport_year = dfseries.sort_values(by=['report_year','assaults_percapita'],ascending=False)\n",
    "series3=Series(Sortbyreport_year['assaults_percapita'])\n",
    "series3.head(10)"
   ]
  },
  {
   "cell_type": "markdown",
   "metadata": {},
   "source": [
    "The column \"assaults_percapita\" is selected which represents the agency_juridictions with <b>assaults_percapita</b> for year 2015 in descending order. <br>\n",
    "Head function is used to list out the <b>top 10 'highest number of assaults_percapita' for the year 2015 </b> among all the agency_juridictions."
   ]
  },
  {
   "cell_type": "markdown",
   "metadata": {},
   "source": [
    "### 5.4 Series no. 4 is of column 'homicides_percapita'"
   ]
  },
  {
   "cell_type": "code",
   "execution_count": 301,
   "metadata": {},
   "outputs": [
    {
     "data": {
      "text/plain": [
       "2820    59.29\n",
       "2766    55.37\n",
       "2776    43.82\n",
       "2800    41.68\n",
       "2802    38.34\n",
       "2795    24.15\n",
       "2826    24.10\n",
       "2785    23.03\n",
       "2771    22.11\n",
       "2791    20.52\n",
       "Name: homicides_percapita, dtype: float64"
      ]
     },
     "execution_count": 301,
     "metadata": {},
     "output_type": "execute_result"
    }
   ],
   "source": [
    "Sortbyreport_year = dfseries.sort_values(by=['report_year','homicides_percapita'],ascending=False)\n",
    "series4=Series(Sortbyreport_year['homicides_percapita'])\n",
    "series4.head(10)"
   ]
  },
  {
   "cell_type": "markdown",
   "metadata": {},
   "source": [
    "The column \"homicides_percapita\" is selected which represents the agency_juridictions with <b>homicides_percapita</b> for year 2015 in descending order. <br>\n",
    "Head function is used to list out the <b>top 10 'highest number of homicides_percapita' for the year 2015 </b> among all the agency_juridictions."
   ]
  },
  {
   "cell_type": "markdown",
   "metadata": {},
   "source": [
    "### 5.5 Series no. 5 is of column 'robberies_percapita'"
   ]
  },
  {
   "cell_type": "code",
   "execution_count": 302,
   "metadata": {},
   "outputs": [
    {
     "data": {
      "text/plain": [
       "2803    784.30\n",
       "2766    694.24\n",
       "2802    642.40\n",
       "2795    624.42\n",
       "2820    564.50\n",
       "2776    513.50\n",
       "2826    506.38\n",
       "2791    475.88\n",
       "2796    458.55\n",
       "2782    451.74\n",
       "Name: robberies_percapita, dtype: float64"
      ]
     },
     "execution_count": 302,
     "metadata": {},
     "output_type": "execute_result"
    }
   ],
   "source": [
    "Sortbyreport_year = dfseries.sort_values(by=['report_year','robberies_percapita'],ascending=False)\n",
    "series5=Series(Sortbyreport_year['robberies_percapita'])\n",
    "series5.head(10)"
   ]
  },
  {
   "cell_type": "markdown",
   "metadata": {},
   "source": [
    "The column \"robberies_percapita\" is selected which represents the agency_juridictions with <b>robberies_percapita</b> for year 2015 in descending order. <br>\n",
    "Head function is used to list out the <b>top 10 'highest number of robberies_percapita' for the year 2015 </b> among all the agency_juridictions."
   ]
  },
  {
   "cell_type": "markdown",
   "metadata": {},
   "source": [
    "## 6. Plot"
   ]
  },
  {
   "cell_type": "markdown",
   "metadata": {},
   "source": [
    "Create one plot of your choice."
   ]
  },
  {
   "cell_type": "code",
   "execution_count": 303,
   "metadata": {
    "scrolled": false
   },
   "outputs": [
    {
     "data": {
      "text/html": [
       "<div>\n",
       "<style scoped>\n",
       "    .dataframe tbody tr th:only-of-type {\n",
       "        vertical-align: middle;\n",
       "    }\n",
       "\n",
       "    .dataframe tbody tr th {\n",
       "        vertical-align: top;\n",
       "    }\n",
       "\n",
       "    .dataframe thead th {\n",
       "        text-align: right;\n",
       "    }\n",
       "</style>\n",
       "<table border=\"1\" class=\"dataframe\">\n",
       "  <thead>\n",
       "    <tr style=\"text-align: right;\">\n",
       "      <th></th>\n",
       "      <th>report_year</th>\n",
       "      <th>agency_jurisdiction</th>\n",
       "      <th>crimes_percapita</th>\n",
       "      <th>rapes_percapita</th>\n",
       "      <th>assaults_percapita</th>\n",
       "      <th>homicides_percapita</th>\n",
       "      <th>robberies_percapita</th>\n",
       "    </tr>\n",
       "  </thead>\n",
       "  <tbody>\n",
       "    <tr>\n",
       "      <th>2820</th>\n",
       "      <td>2015</td>\n",
       "      <td>St. Louis, MO</td>\n",
       "      <td>1817.12</td>\n",
       "      <td>82.94</td>\n",
       "      <td>1110.39</td>\n",
       "      <td>59.29</td>\n",
       "      <td>564.50</td>\n",
       "    </tr>\n",
       "    <tr>\n",
       "      <th>2776</th>\n",
       "      <td>2015</td>\n",
       "      <td>Detroit, MI</td>\n",
       "      <td>1759.59</td>\n",
       "      <td>78.73</td>\n",
       "      <td>1123.55</td>\n",
       "      <td>43.82</td>\n",
       "      <td>513.50</td>\n",
       "    </tr>\n",
       "    <tr>\n",
       "      <th>2791</th>\n",
       "      <td>2015</td>\n",
       "      <td>Memphis, TN</td>\n",
       "      <td>1740.14</td>\n",
       "      <td>80.55</td>\n",
       "      <td>1163.18</td>\n",
       "      <td>20.52</td>\n",
       "      <td>475.88</td>\n",
       "    </tr>\n",
       "    <tr>\n",
       "      <th>2795</th>\n",
       "      <td>2015</td>\n",
       "      <td>Milwaukee, WI</td>\n",
       "      <td>1596.10</td>\n",
       "      <td>72.62</td>\n",
       "      <td>874.92</td>\n",
       "      <td>24.15</td>\n",
       "      <td>624.42</td>\n",
       "    </tr>\n",
       "    <tr>\n",
       "      <th>2766</th>\n",
       "      <td>2015</td>\n",
       "      <td>Baltimore, MD</td>\n",
       "      <td>1535.93</td>\n",
       "      <td>46.20</td>\n",
       "      <td>740.12</td>\n",
       "      <td>55.37</td>\n",
       "      <td>694.24</td>\n",
       "    </tr>\n",
       "  </tbody>\n",
       "</table>\n",
       "</div>"
      ],
      "text/plain": [
       "      report_year agency_jurisdiction  crimes_percapita  rapes_percapita  \\\n",
       "2820         2015       St. Louis, MO           1817.12            82.94   \n",
       "2776         2015         Detroit, MI           1759.59            78.73   \n",
       "2791         2015         Memphis, TN           1740.14            80.55   \n",
       "2795         2015       Milwaukee, WI           1596.10            72.62   \n",
       "2766         2015       Baltimore, MD           1535.93            46.20   \n",
       "\n",
       "      assaults_percapita  homicides_percapita  robberies_percapita  \n",
       "2820             1110.39                59.29               564.50  \n",
       "2776             1123.55                43.82               513.50  \n",
       "2791             1163.18                20.52               475.88  \n",
       "2795              874.92                24.15               624.42  \n",
       "2766              740.12                55.37               694.24  "
      ]
     },
     "execution_count": 303,
     "metadata": {},
     "output_type": "execute_result"
    }
   ],
   "source": [
    "dftop5 = pd.DataFrame(crimemain,columns=['report_year','agency_jurisdiction','crimes_percapita','rapes_percapita','assaults_percapita','homicides_percapita','robberies_percapita'])\n",
    "dftop5 = dftop5.sort_values(by=['report_year','crimes_percapita'],ascending=False)\n",
    "dftop5 = dftop5.head(5)\n",
    "dftop5"
   ]
  },
  {
   "cell_type": "markdown",
   "metadata": {},
   "source": [
    "The above dataframe shows the top 5 Police Jurisdiction with Highest number of violent crimes reported in year 2015."
   ]
  },
  {
   "cell_type": "code",
   "execution_count": 304,
   "metadata": {},
   "outputs": [],
   "source": [
    "import matplotlib.pyplot as plt\n",
    "from pylab import rcParams\n",
    "rcParams['figure.figsize'] = 20, 8"
   ]
  },
  {
   "cell_type": "code",
   "execution_count": 305,
   "metadata": {},
   "outputs": [
    {
     "data": {
      "image/png": "[encoded data removed]",
      "text/plain": [
       "<Figure size 1440x576 with 1 Axes>"
      ]
     },
     "metadata": {},
     "output_type": "display_data"
    }
   ],
   "source": [
    "barhe = 0.20\n",
    " \n",
    "bars1 = dftop5[\"rapes_percapita\"].values\n",
    "bars2 = dftop5[\"assaults_percapita\"].values\n",
    "bars3 = dftop5[\"homicides_percapita\"].values\n",
    "bars4 = dftop5[\"robberies_percapita\"].values\n",
    "\n",
    "r1 = np.arange(len(bars1))\n",
    "r2 = [x + barWidth for x in r1]\n",
    "r3 = [x + barWidth for x in r2]\n",
    "r4 = [x + barWidth for x in r3]\n",
    "\n",
    "# Make the plot\n",
    "plt.barh(r1, bars1, color='#7f6d5f', height=barhe, edgecolor='white', label='rapes_percapita')\n",
    "plt.barh(r2, bars2, color='#552f2d', height=barhe, edgecolor='white', label='assaults_percapita')\n",
    "plt.barh(r3, bars3, color='#2d7f5e', height=barhe, edgecolor='white', label='homicides_percapita')\n",
    "plt.barh(r4, bars4, color='brown', height=barhe, edgecolor='white', label='robberies_percapita')\n",
    " \n",
    "plt.yticks([r + barWidth for r in range(len(bars1))], ['St. Louis, MO', 'Detroit, MI', 'Memphis, TN', 'Milwaukee, WI', 'Baltimore, MD'],fontsize='15')\n",
    "plt.title('Top 5 Police Jurisdictions with Highest number of violent crimes per capita in 2015',fontsize=25)\n",
    "plt.xlabel('Number of Violent Crimes per 100000 residents',fontsize=25)\n",
    "plt.ylabel('Police Jurisdictions',fontsize=25)\n",
    "\n",
    "plt.legend(fontsize=15)\n",
    "plt.show()\n"
   ]
  },
  {
   "cell_type": "markdown",
   "metadata": {},
   "source": [
    "The above bar plot is used to analyze the crime scenerio in the 5 Poilce Jurisdictions where <b> Highest number of violent crime per capita </b>is reported for the year 2015. This 5 Police Jurisdictions can be stated as the <b>most unsafe places in the USA for Year 2015 </b> among the 68 Police Jurisdictions . "
   ]
  },
  {
   "cell_type": "markdown",
   "metadata": {},
   "source": [
    "## 7. Summary"
   ]
  },
  {
   "cell_type": "markdown",
   "metadata": {},
   "source": [
    "Inorder to conduct the research, a dataset was selected that conatins 40 years of data on the four major crimes the FBI classifies as violent — homicide, rape, robbery and assault. The dataset was further explored to know that, there are 2788 number of rows and 15 columns. \n",
    "\n",
    "Moreover,to find the most unsafe scenerios for women in last 40 years sort by values was performed with variable \"rapes_percapita\". Then 5 series were drawn from the dataset with the highest number of violent crimes commited per capita for each crime seperately. \n",
    "\n",
    "Finally a dataset for top5 jurisdiction with <b>highest number of reported  violent crimes</b> is prepared. Multiple horizonatal bars were plotted in one chart to understand the relations between the types of crimes in the<b> 5 most dangerous Jurisdiction areas of the country for year 2015</b> as per the available data. It turns out that <b>St. Louis, MO', 'Detroit, MI', 'Memphis, TN', 'Milwaukee, WI', 'Baltimore, MD'</b> are shortlisted for the most unsafe places in the united states. Out of which<b> St. Louis, MO</b> has the highest murder rate in America. <b>Memphis, TN</b> recorded the highest number of assaults per capita in the United States.\n",
    " "
   ]
  },
  {
   "cell_type": "markdown",
   "metadata": {},
   "source": [
    "## 8. Recommendations"
   ]
  },
  {
   "cell_type": "markdown",
   "metadata": {},
   "source": [
    "After conducting the analysis about jurisdictions with <b>highest number of reported crimes in year 2015</b>, I would like to recommend our new service as an effort towaords our mission to <b>\"Keep America Safe\"</b> to the Police executives of those jurisdictions, our company is about launch the service called <b>\"Locate The Crime\"</b>. Under this service the people will be able to identify the locations around where crimes are oftenly conducted.\n",
    "\n",
    "<b>\"Locate The Crime\"</b> feature will be <b>intigrated to the navigation maps</b> to help people to identify the spots of the city where specific crimes are very common. So that people can<b> stay safe by not passing through such locations </b>on given time or atleast they know what to expect from that location. So that less crime happens.\n",
    "\n",
    "The Police Department is recommended to provide the <b>location detail and time deatil</b> about the specific crimes for highly unsafe areas of their jurisdictions. Which can be used to <b>alert people in advance</b> of their arrival to such location on given time.\n",
    "\n",
    "This feature can also be <b>helpful to visitors in providing the necessary guidlines for avoiding the unwanted situations</b> in the new area."
   ]
  },
  {
   "cell_type": "markdown",
   "metadata": {},
   "source": [
    "<br><hr>"
   ]
  }
 ],
 "metadata": {
  "kernelspec": {
   "display_name": "Python 3",
   "language": "python",
   "name": "python3"
  },
  "language_info": {
   "codemirror_mode": {
    "name": "ipython",
    "version": 3
   },
   "file_extension": ".py",
   "mimetype": "text/x-python",
   "name": "python",
   "nbconvert_exporter": "python",
   "pygments_lexer": "ipython3",
   "version": "3.7.3"
  }
 },
 "nbformat": 4,
 "nbformat_minor": 2
}
